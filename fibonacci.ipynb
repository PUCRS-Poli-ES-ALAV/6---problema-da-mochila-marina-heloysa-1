{
 "cells": [
  {
   "cell_type": "markdown",
   "metadata": {},
   "source": [
    "Dadas as três versões de implementação de Fibonacci abaixo:\n",
    "\n",
    "implemente os algortimos;\n",
    "teste todos para os inteiros 4, 8, 16, 32;\n",
    "teste os dois últimos também para os inteiro 128, 1000 e 10.000.\n"
   ]
  },
  {
   "cell_type": "code",
   "execution_count": null,
   "metadata": {},
   "outputs": [],
   "source": [
    "# FIBO-REC (n)\n",
    "#    se n ≤ 1\n",
    "#    então devolva n\n",
    "#    senão a ← FIBO-REC (n − 1)\n",
    "#          b ← FIBO-REC (n − 2)\n",
    "#          devolva a + b"
   ]
  },
  {
   "cell_type": "code",
   "execution_count": 1,
   "metadata": {},
   "outputs": [
    {
     "name": "stdout",
     "output_type": "stream",
     "text": [
      "    n  Fibonacci  Instruções  Tempo (s)\n",
      "0   4          3           9   0.000004\n",
      "1   8         21          67   0.000007\n",
      "2  16        987        3193   0.000276\n",
      "3  32    2178309     7049155   0.609436\n"
     ]
    }
   ],
   "source": [
    "import time\n",
    "import pandas as pd\n",
    "\n",
    "# Corrigindo a função fiborec\n",
    "def fiborec(n):\n",
    "    if n <= 1:\n",
    "        return n, 1  # Retorna o valor de Fibonacci e 1 instrução\n",
    "    else:\n",
    "        a, iter_a = fiborec(n - 1)\n",
    "        b, iter_b = fiborec(n - 2)\n",
    "        return a + b, iter_a + iter_b + 1  # Soma os valores e as instruções\n",
    "\n",
    "# Função para medir o tempo de execução e gerar a tabela\n",
    "def generate_table():\n",
    "    results = []\n",
    "    for n in [4, 8, 16, 32]:\n",
    "        start_time = time.time()\n",
    "        fib_value, instructions = fiborec(n)\n",
    "        end_time = time.time()\n",
    "        execution_time = end_time - start_time\n",
    "        results.append({\"n\": n, \"Fibonacci\": fib_value, \"Instruções\": instructions, \"Tempo (s)\": execution_time})\n",
    "    \n",
    "    # Criando a tabela com pandas\n",
    "    df = pd.DataFrame(results)\n",
    "    print(df)\n",
    "\n",
    "# Gerar a tabela\n",
    "generate_table()\n",
    "\n"
   ]
  },
  {
   "cell_type": "markdown",
   "metadata": {},
   "source": []
  }
 ],
 "metadata": {
  "kernelspec": {
   "display_name": "base",
   "language": "python",
   "name": "python3"
  },
  "language_info": {
   "codemirror_mode": {
    "name": "ipython",
    "version": 3
   },
   "file_extension": ".py",
   "mimetype": "text/x-python",
   "name": "python",
   "nbconvert_exporter": "python",
   "pygments_lexer": "ipython3",
   "version": "3.11.5"
  }
 },
 "nbformat": 4,
 "nbformat_minor": 2
}
